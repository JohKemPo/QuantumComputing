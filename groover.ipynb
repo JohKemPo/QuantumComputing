{
 "cells": [
  {
   "cell_type": "code",
   "execution_count": 28,
   "metadata": {},
   "outputs": [
    {
     "data": {
      "text/plain": [
       "<qiskit.circuit.instructionset.InstructionSet at 0x24695919b70>"
      ]
     },
     "execution_count": 28,
     "metadata": {},
     "output_type": "execute_result"
    }
   ],
   "source": [
    "from qiskit import QuantumRegister, ClassicalRegister, QuantumCircuit, transpile\n",
    "from qiskit.providers.aer import QasmSimulator\n",
    "from qiskit.visualization import plot_histogram\n",
    "from numpy import pi\n",
    "\n",
    "#Grover 00\n",
    "\n",
    "\n",
    "qreg_q = QuantumRegister(2, 'q')\n",
    "creg_c = ClassicalRegister(2, 'c')\n",
    "circuit = QuantumCircuit(qreg_q, creg_c)\n",
    "\n",
    "# A operação de reset retorna um qubit para o estado ∣ 0 ⟩, \n",
    "# independentemente de seu estado antes da aplicação da operação. Não é uma operação reversível.\n",
    "\n",
    "circuit.reset(qreg_q[0])\n",
    "circuit.reset(qreg_q[1])\n",
    "\n",
    "# O portão H, ou Hadamard, gira os estados∣ 0 ⟩ e∣ 1 ⟩ para∣ + ⟩ e ∣ − ⟩, respectivamente.\n",
    "# É útil para fazer superposições. Se você tiver um portão universal definido em um computador clássico\n",
    "# e adicionar o portão Hadamard, ele se tornará um portão universal definido em um computador quântico.\n",
    "\n",
    "circuit.h(qreg_q[0])\n",
    "circuit.h(qreg_q[1])\n",
    "\n",
    "# O portão H, ou Hadamard, gira os estados ∣ 0 ⟩ e ∣ 1 ⟩para ∣ + ⟩ e  ∣ − ⟩, respectivamente. É útil para fazer superposições.\n",
    "# Se você tiver um portão universal definido em um computador clássico e adicionar o portão Hadamard, \n",
    "# ele se tornará um portão universal definido em um computador quântico.\n",
    "\n",
    "circuit.s(qreg_q[0])\n",
    "circuit.s(qreg_q[1])\n",
    "\n",
    "\n",
    "# Portão Z controlado.\n",
    "# Na base computacional, este portão inverte a fase do qubit de destino se o qubit de controle estiver no ∣ 1 ⟩ Estado.\n",
    "# https://qiskit.org/documentation/stubs/qiskit.circuit.library.CZGate.html\n",
    "\n",
    "circuit.cz(qreg_q[0], qreg_q[1])\n",
    "\n",
    "circuit.s(qreg_q[0])\n",
    "circuit.s(qreg_q[1])\n",
    "\n",
    "circuit.h(qreg_q[0])\n",
    "circuit.h(qreg_q[1])\n",
    "\n",
    "# A porta NOT, também conhecida como porta Pauli X, vira o ∣ 0 ⟩estado para ∣ 1 ⟩, e vice versa. A porta NOT é equivalente a RX para o ângulo π.\n",
    "\n",
    "circuit.x(qreg_q[0])\n",
    "circuit.x(qreg_q[1])\n",
    "\n",
    "circuit.cz(qreg_q[0], qreg_q[1])\n",
    "\n",
    "circuit.x(qreg_q[0])\n",
    "circuit.h(qreg_q[0])\n",
    "circuit.x(qreg_q[1])\n",
    "circuit.h(qreg_q[1])\n",
    "\n",
    "circuit.measure(qreg_q[0], creg_c[0])\n",
    "circuit.measure(qreg_q[1], creg_c[1])"
   ]
  },
  {
   "cell_type": "code",
   "execution_count": 33,
   "metadata": {},
   "outputs": [
    {
     "name": "stdout",
     "output_type": "stream",
     "text": [
      "\n",
      "Total count for 00 and 11 are: {'00': 100}\n"
     ]
    }
   ],
   "source": [
    "simulator = QasmSimulator()\n",
    "\n",
    "compiled_circuit = transpile(circuit,simulator)\n",
    "\n",
    "job = simulator.run(compiled_circuit, shots=100)\n",
    "\n",
    "result = job.result()\n",
    "\n",
    "counts = result.get_counts(compiled_circuit)\n",
    "print(\"\\nTotal count for 00 and 11 are:\",counts)"
   ]
  },
  {
   "cell_type": "code",
   "execution_count": 34,
   "metadata": {},
   "outputs": [
    {
     "data": {
      "image/png": "[encoded data removed]",
      "text/plain": [
       "<Figure size 700x500 with 1 Axes>"
      ]
     },
     "execution_count": 34,
     "metadata": {},
     "output_type": "execute_result"
    }
   ],
   "source": [
    "plot_histogram(counts)"
   ]
  },
  {
   "cell_type": "code",
   "execution_count": 31,
   "metadata": {},
   "outputs": [
    {
     "data": {
      "text/html": [
       "<pre style=\"word-wrap: normal;white-space: pre;background: #fff0;line-height: 1.1;font-family: &quot;Courier New&quot;,Courier,monospace\">          ┌───┐┌───┐   ┌───┐┌───┐┌───┐   ┌───┐┌───┐┌─┐   \n",
       "q_0: ─|0>─┤ H ├┤ S ├─■─┤ S ├┤ H ├┤ X ├─■─┤ X ├┤ H ├┤M├───\n",
       "          ├───┤├───┤ │ ├───┤├───┤├───┤ │ ├───┤├───┤└╥┘┌─┐\n",
       "q_1: ─|0>─┤ H ├┤ S ├─■─┤ S ├┤ H ├┤ X ├─■─┤ X ├┤ H ├─╫─┤M├\n",
       "          └───┘└───┘   └───┘└───┘└───┘   └───┘└───┘ ║ └╥┘\n",
       "c: 2/═══════════════════════════════════════════════╩══╩═\n",
       "                                                    0  1 </pre>"
      ],
      "text/plain": [
       "          ┌───┐┌───┐   ┌───┐┌───┐┌───┐   ┌───┐┌───┐┌─┐   \n",
       "q_0: ─|0>─┤ H ├┤ S ├─■─┤ S ├┤ H ├┤ X ├─■─┤ X ├┤ H ├┤M├───\n",
       "          ├───┤├───┤ │ ├───┤├───┤├───┤ │ ├───┤├───┤└╥┘┌─┐\n",
       "q_1: ─|0>─┤ H ├┤ S ├─■─┤ S ├┤ H ├┤ X ├─■─┤ X ├┤ H ├─╫─┤M├\n",
       "          └───┘└───┘   └───┘└───┘└───┘   └───┘└───┘ ║ └╥┘\n",
       "c: 2/═══════════════════════════════════════════════╩══╩═\n",
       "                                                    0  1 "
      ]
     },
     "execution_count": 31,
     "metadata": {},
     "output_type": "execute_result"
    }
   ],
   "source": [
    "circuit.draw()"
   ]
  },
  {
   "cell_type": "code",
   "execution_count": null,
   "metadata": {},
   "outputs": [
    {
     "data": {
      "text/plain": [
       "<qiskit.circuit.instructionset.InstructionSet at 0x2468ef81f30>"
      ]
     },
     "execution_count": 18,
     "metadata": {},
     "output_type": "execute_result"
    }
   ],
   "source": [
    "#Grover 01\n",
    "\n",
    "\n",
    "qreg_q_2 = QuantumRegister(2, 'q')\n",
    "creg_c_2 = ClassicalRegister(2, 'c')\n",
    "circuit_2 = QuantumCircuit(qreg_q_2, creg_c_2)\n",
    "\n",
    "circuit_2.reset(qreg_q_2[0])\n",
    "circuit_2.reset(qreg_q_2[1])\n",
    "circuit_2.h(qreg_q_2[0])\n",
    "circuit_2.h(qreg_q_2[1])\n",
    "circuit_2.s(qreg_q_2[0])\n",
    "circuit_2.cz(qreg_q_2[0], qreg_q_2[1])\n",
    "circuit_2.s(qreg_q_2[0])\n",
    "circuit_2.h(qreg_q_2[1])\n",
    "circuit_2.h(qreg_q_2[0])\n",
    "circuit_2.x(qreg_q_2[1])\n",
    "circuit_2.x(qreg_q_2[0])\n",
    "circuit_2.cz(qreg_q_2[0], qreg_q_2[1])\n",
    "circuit_2.x(qreg_q_2[0])\n",
    "circuit_2.h(qreg_q_2[0])\n",
    "circuit_2.x(qreg_q_2[1])\n",
    "circuit_2.h(qreg_q_2[1])\n",
    "circuit_2.measure(qreg_q_2[0], creg_c_2[0])\n",
    "circuit_2.measure(qreg_q_2[1], creg_c_2[1])"
   ]
  },
  {
   "cell_type": "code",
   "execution_count": null,
   "metadata": {},
   "outputs": [
    {
     "data": {
      "text/html": [
       "<pre style=\"word-wrap: normal;white-space: pre;background: #fff0;line-height: 1.1;font-family: &quot;Courier New&quot;,Courier,monospace\">          ┌───┐┌───┐   ┌───┐┌───┐┌───┐   ┌───┐┌───┐┌─┐   \n",
       "q_0: ─|0>─┤ H ├┤ S ├─■─┤ S ├┤ H ├┤ X ├─■─┤ X ├┤ H ├┤M├───\n",
       "          ├───┤└───┘ │ ├───┤├───┤└───┘ │ ├───┤├───┤└╥┘┌─┐\n",
       "q_1: ─|0>─┤ H ├──────■─┤ H ├┤ X ├──────■─┤ X ├┤ H ├─╫─┤M├\n",
       "          └───┘        └───┘└───┘        └───┘└───┘ ║ └╥┘\n",
       "c: 2/═══════════════════════════════════════════════╩══╩═\n",
       "                                                    0  1 </pre>"
      ],
      "text/plain": [
       "          ┌───┐┌───┐   ┌───┐┌───┐┌───┐   ┌───┐┌───┐┌─┐   \n",
       "q_0: ─|0>─┤ H ├┤ S ├─■─┤ S ├┤ H ├┤ X ├─■─┤ X ├┤ H ├┤M├───\n",
       "          ├───┤└───┘ │ ├───┤├───┤└───┘ │ ├───┤├───┤└╥┘┌─┐\n",
       "q_1: ─|0>─┤ H ├──────■─┤ H ├┤ X ├──────■─┤ X ├┤ H ├─╫─┤M├\n",
       "          └───┘        └───┘└───┘        └───┘└───┘ ║ └╥┘\n",
       "c: 2/═══════════════════════════════════════════════╩══╩═\n",
       "                                                    0  1 "
      ]
     },
     "execution_count": 19,
     "metadata": {},
     "output_type": "execute_result"
    }
   ],
   "source": [
    "circuit_2.draw()"
   ]
  },
  {
   "cell_type": "code",
   "execution_count": null,
   "metadata": {},
   "outputs": [
    {
     "data": {
      "text/html": [
       "<pre style=\"word-wrap: normal;white-space: pre;background: #fff0;line-height: 1.1;font-family: &quot;Courier New&quot;,Courier,monospace\">          ┌───┐        ┌───┐┌───┐        ┌───┐┌───┐┌─┐   \n",
       "q_0: ─|0>─┤ H ├──────■─┤ H ├┤ X ├──────■─┤ X ├┤ H ├┤M├───\n",
       "          ├───┤┌───┐ │ ├───┤├───┤┌───┐ │ ├───┤├───┤└╥┘┌─┐\n",
       "q_1: ─|0>─┤ H ├┤ S ├─■─┤ S ├┤ H ├┤ X ├─■─┤ X ├┤ H ├─╫─┤M├\n",
       "          └───┘└───┘   └───┘└───┘└───┘   └───┘└───┘ ║ └╥┘\n",
       "c: 2/═══════════════════════════════════════════════╩══╩═\n",
       "                                                    0  1 </pre>"
      ],
      "text/plain": [
       "          ┌───┐        ┌───┐┌───┐        ┌───┐┌───┐┌─┐   \n",
       "q_0: ─|0>─┤ H ├──────■─┤ H ├┤ X ├──────■─┤ X ├┤ H ├┤M├───\n",
       "          ├───┤┌───┐ │ ├───┤├───┤┌───┐ │ ├───┤├───┤└╥┘┌─┐\n",
       "q_1: ─|0>─┤ H ├┤ S ├─■─┤ S ├┤ H ├┤ X ├─■─┤ X ├┤ H ├─╫─┤M├\n",
       "          └───┘└───┘   └───┘└───┘└───┘   └───┘└───┘ ║ └╥┘\n",
       "c: 2/═══════════════════════════════════════════════╩══╩═\n",
       "                                                    0  1 "
      ]
     },
     "execution_count": 20,
     "metadata": {},
     "output_type": "execute_result"
    }
   ],
   "source": [
    "#Grover 10\n",
    "\n",
    "qreg_q_3 = QuantumRegister(2, 'q')\n",
    "creg_c_3 = ClassicalRegister(2, 'c')\n",
    "circuit_3 = QuantumCircuit(qreg_q_3, creg_c_3)\n",
    "\n",
    "circuit_3.reset(qreg_q_3[0])\n",
    "circuit_3.reset(qreg_q_3[1])\n",
    "circuit_3.h(qreg_q_3[0])\n",
    "circuit_3.h(qreg_q_3[1])\n",
    "circuit_3.s(qreg_q_3[1])\n",
    "circuit_3.cz(qreg_q_3[0], qreg_q_3[1])\n",
    "circuit_3.h(qreg_q_3[0])\n",
    "circuit_3.s(qreg_q_3[1])\n",
    "circuit_3.x(qreg_q_3[0])\n",
    "circuit_3.h(qreg_q_3[1])\n",
    "circuit_3.x(qreg_q_3[1])\n",
    "circuit_3.cz(qreg_q_3[0], qreg_q_3[1])\n",
    "circuit_3.x(qreg_q_3[0])\n",
    "circuit_3.h(qreg_q_3[0])\n",
    "circuit_3.x(qreg_q_3[1])\n",
    "circuit_3.h(qreg_q_3[1])\n",
    "circuit_3.measure(qreg_q_3[0], creg_c_3[0])\n",
    "circuit_3.measure(qreg_q_3[1], creg_c_3[1])\n",
    "\n",
    "circuit_3.draw()"
   ]
  },
  {
   "cell_type": "code",
   "execution_count": null,
   "metadata": {},
   "outputs": [
    {
     "data": {
      "text/html": [
       "<pre style=\"word-wrap: normal;white-space: pre;background: #fff0;line-height: 1.1;font-family: &quot;Courier New&quot;,Courier,monospace\">          ┌───┐   ┌───┐┌───┐   ┌───┐┌─┐\n",
       "q_0: ─|0>─┤ H ├─■─┤ H ├┤ Z ├─■─┤ H ├┤M├\n",
       "          ├───┤ │ ├───┤├───┤ │ └┬─┬┘└╥┘\n",
       "q_1: ─|0>─┤ H ├─■─┤ H ├┤ Z ├─■──┤M├──╫─\n",
       "          └───┘   └───┘└───┘    └╥┘  ║ \n",
       "c: 2/════════════════════════════╩═══╩═\n",
       "                                 1   0 </pre>"
      ],
      "text/plain": [
       "          ┌───┐   ┌───┐┌───┐   ┌───┐┌─┐\n",
       "q_0: ─|0>─┤ H ├─■─┤ H ├┤ Z ├─■─┤ H ├┤M├\n",
       "          ├───┤ │ ├───┤├───┤ │ └┬─┬┘└╥┘\n",
       "q_1: ─|0>─┤ H ├─■─┤ H ├┤ Z ├─■──┤M├──╫─\n",
       "          └───┘   └───┘└───┘    └╥┘  ║ \n",
       "c: 2/════════════════════════════╩═══╩═\n",
       "                                 1   0 "
      ]
     },
     "execution_count": 21,
     "metadata": {},
     "output_type": "execute_result"
    }
   ],
   "source": [
    "#Grover 11 ERROR\n",
    "\n",
    "qreg_q_4 = QuantumRegister(2, 'q')\n",
    "creg_c_4 = ClassicalRegister(2, 'c')\n",
    "circuit_4 = QuantumCircuit(qreg_q_4, creg_c_4)\n",
    "\n",
    "circuit_4.reset(qreg_q_4[0])\n",
    "circuit_4.reset(qreg_q_4[1])\n",
    "circuit_4.h(qreg_q_4[0])\n",
    "circuit_4.h(qreg_q_4[1])\n",
    "circuit_4.cz(qreg_q_4[1], qreg_q_4[0])\n",
    "circuit_4.h(qreg_q_4[0])\n",
    "circuit_4.h(qreg_q_4[1])\n",
    "circuit_4.z(qreg_q_4[0])\n",
    "circuit_4.z(qreg_q_4[1])\n",
    "circuit_4.cz(qreg_q_4[1], qreg_q_4[0])\n",
    "circuit_4.h(qreg_q_4[0])\n",
    "circuit_4.measure(qreg_q_4[0], creg_c_4[0])\n",
    "circuit_4.measure(qreg_q_4[1], creg_c_4[1])\n",
    "\n",
    "circuit_4.draw()"
   ]
  },
  {
   "cell_type": "code",
   "execution_count": null,
   "metadata": {},
   "outputs": [
    {
     "data": {
      "text/html": [
       "<pre style=\"word-wrap: normal;white-space: pre;background: #fff0;line-height: 1.1;font-family: &quot;Courier New&quot;,Courier,monospace\">          ┌───┐   ┌───┐┌───┐   ┌───┐┌───┐   ┌─┐\n",
       "q_0: ─|0>─┤ H ├─■─┤ H ├┤ X ├─■─┤ X ├┤ H ├───┤M├\n",
       "          ├───┤ │ ├───┤├───┤ │ ├───┤├───┤┌─┐└╥┘\n",
       "q_1: ─|0>─┤ H ├─■─┤ H ├┤ X ├─■─┤ X ├┤ H ├┤M├─╫─\n",
       "          └───┘   └───┘└───┘   └───┘└───┘└╥┘ ║ \n",
       "c: 2/═════════════════════════════════════╩══╩═\n",
       "                                          1  0 </pre>"
      ],
      "text/plain": [
       "          ┌───┐   ┌───┐┌───┐   ┌───┐┌───┐   ┌─┐\n",
       "q_0: ─|0>─┤ H ├─■─┤ H ├┤ X ├─■─┤ X ├┤ H ├───┤M├\n",
       "          ├───┤ │ ├───┤├───┤ │ ├───┤├───┤┌─┐└╥┘\n",
       "q_1: ─|0>─┤ H ├─■─┤ H ├┤ X ├─■─┤ X ├┤ H ├┤M├─╫─\n",
       "          └───┘   └───┘└───┘   └───┘└───┘└╥┘ ║ \n",
       "c: 2/═════════════════════════════════════╩══╩═\n",
       "                                          1  0 "
      ]
     },
     "execution_count": 22,
     "metadata": {},
     "output_type": "execute_result"
    }
   ],
   "source": [
    "qreg_q_5 = QuantumRegister(2, 'q')\n",
    "creg_c_5 = ClassicalRegister(2, 'c')\n",
    "circuit_5 = QuantumCircuit(qreg_q_5, creg_c_5)\n",
    "\n",
    "circuit_5.reset(qreg_q_5[0])\n",
    "circuit_5.reset(qreg_q_5[1])\n",
    "circuit_5.h(qreg_q_5[0])\n",
    "circuit_5.h(qreg_q_5[1])\n",
    "circuit_5.cz(qreg_q_5[1], qreg_q_5[0])\n",
    "circuit_5.h(qreg_q_5[0])\n",
    "circuit_5.h(qreg_q_5[1])\n",
    "circuit_5.x(qreg_q_5[0])\n",
    "circuit_5.x(qreg_q_5[1])\n",
    "circuit_5.cz(qreg_q_5[1], qreg_q_5[0])\n",
    "circuit_5.x(qreg_q_5[0])\n",
    "circuit_5.x(qreg_q_5[1])\n",
    "circuit_5.h(qreg_q_5[0])\n",
    "circuit_5.h(qreg_q_5[1])\n",
    "circuit_5.measure(qreg_q_5[1], creg_c_5[1])\n",
    "circuit_5.measure(qreg_q_5[0], creg_c_5[0])\n",
    "\n",
    "circuit_5.draw()"
   ]
  },
  {
   "cell_type": "code",
   "execution_count": null,
   "metadata": {},
   "outputs": [
    {
     "name": "stdout",
     "output_type": "stream",
     "text": [
      "\n",
      "Total count for 00 and 11 are: {'11': 100}\n"
     ]
    }
   ],
   "source": [
    "simulator = QasmSimulator()\n",
    "\n",
    "compiled_circuit = transpile(circuit_5,simulator)\n",
    "\n",
    "job = simulator.run(compiled_circuit, shots=100)\n",
    "\n",
    "result = job.result()\n",
    "\n",
    "counts = result.get_counts(compiled_circuit)\n",
    "print(\"\\nTotal count for 00 and 11 are:\",counts)"
   ]
  },
  {
   "cell_type": "code",
   "execution_count": 32,
   "metadata": {},
   "outputs": [
    {
     "data": {
      "image/png": "[encoded data removed]",
      "text/plain": [
       "<Figure size 700x500 with 1 Axes>"
      ]
     },
     "execution_count": 32,
     "metadata": {},
     "output_type": "execute_result"
    }
   ],
   "source": [
    "plot_histogram(counts)"
   ]
  }
 ],
 "metadata": {
  "kernelspec": {
   "display_name": "Python 3.10.4 64-bit",
   "language": "python",
   "name": "python3"
  },
  "language_info": {
   "codemirror_mode": {
    "name": "ipython",
    "version": 3
   },
   "file_extension": ".py",
   "mimetype": "text/x-python",
   "name": "python",
   "nbconvert_exporter": "python",
   "pygments_lexer": "ipython3",
   "version": "3.10.4"
  },
  "orig_nbformat": 4,
  "vscode": {
   "interpreter": {
    "hash": "bcca0175964ae6ff584872733809f2657f3650f336a23be0033a7d18ab263a12"
   }
  }
 },
 "nbformat": 4,
 "nbformat_minor": 2
}
