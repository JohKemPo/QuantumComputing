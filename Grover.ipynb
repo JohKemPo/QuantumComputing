{
 "cells": [
  {
   "cell_type": "markdown",
   "metadata": {},
   "source": [
    "# **ALGORITMO DE GROVER E AMPLIFICAÇÃO DE AMPLITUDE**\n",
    "\n",
    "<br>\n",
    "\n",
    "- <a href=\"https://qiskit.org/documentation/tutorials/algorithms/06_grover.html\"> Refencia Qiskit </a><br>\n",
    "- <a href=\"https://quantum-computing.ibm.com/composer/docs/iqx/guide/grovers-algorithm#example-two-qubits\"> Grover circuit </a><br>\n",
    "<br>\n",
    "<br>\n",
    "\n",
    "### **MOTIVAÇÃO**\n",
    "<br>\n",
    "\n",
    "<p style=\"text-indent: 3ch\">O Problema do Caixeiro Viajante, do inglês Traveling Salesman Problem (TSP) é um clássico problema quando se estuda otimização combinatória e teoria de grafos. A atração por esse problema é notada por sua interdisciplinaridade e importância econômica com diversas, com uma gama de aplicações em diversas áreas, principalmente em setores do ramo da logística. Por exemplo uma empresa de entregas tem alguns endereços para enviar os produtos e deseja fazer isso da melhor forma possível de forma que seja economizado tempo e custos de viajem no processo.</p>\n"
   ]
  },
  {
   "cell_type": "code",
   "execution_count": 4,
   "metadata": {},
   "outputs": [
    {
     "data": {
      "text/html": [
       "<pre style=\"word-wrap: normal;white-space: pre;background: #fff0;line-height: 1.1;font-family: &quot;Courier New&quot;,Courier,monospace\">global phase: π\n",
       "            ┌───┐┌───┐          ┌───┐┌───┐     \n",
       "state_0: ─■─┤ H ├┤ X ├───────■──┤ X ├┤ H ├─────\n",
       "          │ ├───┤├───┤┌───┐┌─┴─┐├───┤├───┤┌───┐\n",
       "state_1: ─■─┤ H ├┤ X ├┤ H ├┤ X ├┤ H ├┤ X ├┤ H ├\n",
       "            └───┘└───┘└───┘└───┘└───┘└───┘└───┘</pre>"
      ],
      "text/plain": [
       "global phase: π\n",
       "            ┌───┐┌───┐          ┌───┐┌───┐     \n",
       "state_0: ─■─┤ H ├┤ X ├───────■──┤ X ├┤ H ├─────\n",
       "          │ ├───┤├───┤┌───┐┌─┴─┐├───┤├───┤┌───┐\n",
       "state_1: ─■─┤ H ├┤ X ├┤ H ├┤ X ├┤ H ├┤ X ├┤ H ├\n",
       "            └───┘└───┘└───┘└───┘└───┘└───┘└───┘"
      ]
     },
     "execution_count": 4,
     "metadata": {},
     "output_type": "execute_result"
    }
   ],
   "source": [
    "from qiskit import QuantumCircuit\n",
    "from qiskit.algorithms import AmplificationProblem\n",
    "\n",
    "# the state we desire to find is '11'\n",
    "good_state = ['11']\n",
    "\n",
    "# specify the oracle that marks the state '11' as a good solution\n",
    "oracle = QuantumCircuit(2)\n",
    "oracle.cz(0, 1)\n",
    "\n",
    "# define Grover's algorithm\n",
    "problem = AmplificationProblem(oracle, is_good_state=good_state)\n",
    "\n",
    "# now we can have a look at the Grover operator that is used in running the algorithm\n",
    "# (Algorithm circuits are wrapped in a gate to be appear in composition as a block\n",
    "# so we have to decompose() the op to see it expanded into its component gates.)\n",
    "problem.grover_operator.decompose().draw()"
   ]
  }
 ],
 "metadata": {
  "kernelspec": {
   "display_name": "Python 3.10.4 64-bit",
   "language": "python",
   "name": "python3"
  },
  "language_info": {
   "codemirror_mode": {
    "name": "ipython",
    "version": 3
   },
   "file_extension": ".py",
   "mimetype": "text/x-python",
   "name": "python",
   "nbconvert_exporter": "python",
   "pygments_lexer": "ipython3",
   "version": "3.10.4"
  },
  "orig_nbformat": 4,
  "vscode": {
   "interpreter": {
    "hash": "bcca0175964ae6ff584872733809f2657f3650f336a23be0033a7d18ab263a12"
   }
  }
 },
 "nbformat": 4,
 "nbformat_minor": 2
}
