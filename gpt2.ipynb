{
 "cells": [
  {
   "attachments": {},
   "cell_type": "markdown",
   "metadata": {},
   "source": [
    "Descreva um circuito reversível em quiskit para implementação da função 2 elevado a x mod 7"
   ]
  },
  {
   "attachments": {},
   "cell_type": "markdown",
   "metadata": {},
   "source": [
    "Este circuito implementa uma implementação clássica da função 2^x mod 7 usando o algoritmo de reversibilidade. A implementação realiza a operação 2^x mod 7 usando as portas cu1 e Toffoli, e então mede os qubits para obter o resultado."
   ]
  },
  {
   "cell_type": "code",
   "execution_count": 2,
   "metadata": {},
   "outputs": [
    {
     "name": "stderr",
     "output_type": "stream",
     "text": [
      "C:\\Users\\japag\\AppData\\Local\\Temp\\ipykernel_24504\\2611571642.py:13: DeprecationWarning: The QuantumCircuit.cu1 method is deprecated as of 0.16.0. It will be removed no earlier than 3 months after the release date. You should use the QuantumCircuit.cp method instead, which acts identically.\n",
      "  qc.cu1(2 * np.pi / 7, x[0], x[2])\n",
      "C:\\Users\\japag\\AppData\\Local\\Temp\\ipykernel_24504\\2611571642.py:14: DeprecationWarning: The QuantumCircuit.cu1 method is deprecated as of 0.16.0. It will be removed no earlier than 3 months after the release date. You should use the QuantumCircuit.cp method instead, which acts identically.\n",
      "  qc.cu1(4 * np.pi / 7, x[1], x[2])\n"
     ]
    },
    {
     "ename": "CircuitError",
     "evalue": "'Index 0 out of range for size 0.'",
     "output_type": "error",
     "traceback": [
      "\u001b[1;31m---------------------------------------------------------------------------\u001b[0m",
      "\u001b[1;31mIndexError\u001b[0m                                Traceback (most recent call last)",
      "File \u001b[1;32mc:\\Users\\japag\\AppData\\Local\\Programs\\Python\\Python310\\lib\\site-packages\\qiskit\\circuit\\quantumcircuit.py:5130\u001b[0m, in \u001b[0;36m_bit_argument_conversion\u001b[1;34m(specifier, bit_sequence, bit_set, type_)\u001b[0m\n\u001b[0;32m   5129\u001b[0m \u001b[39mtry\u001b[39;00m:\n\u001b[1;32m-> 5130\u001b[0m     \u001b[39mreturn\u001b[39;00m [bit_sequence[specifier]]\n\u001b[0;32m   5131\u001b[0m \u001b[39mexcept\u001b[39;00m \u001b[39mIndexError\u001b[39;00m \u001b[39mas\u001b[39;00m ex:\n",
      "\u001b[1;31mIndexError\u001b[0m: list index out of range",
      "\nThe above exception was the direct cause of the following exception:\n",
      "\u001b[1;31mCircuitError\u001b[0m                              Traceback (most recent call last)",
      "Cell \u001b[1;32mIn [2], line 20\u001b[0m\n\u001b[0;32m     17\u001b[0m qc\u001b[39m.\u001b[39mccx(x[\u001b[39m0\u001b[39m], x[\u001b[39m1\u001b[39m], x[\u001b[39m2\u001b[39m])\n\u001b[0;32m     19\u001b[0m \u001b[39m# Medição dos qubits x[2] e x[1]\u001b[39;00m\n\u001b[1;32m---> 20\u001b[0m qc\u001b[39m.\u001b[39;49mmeasure(x[\u001b[39m2\u001b[39;49m], \u001b[39m0\u001b[39;49m)\n\u001b[0;32m     21\u001b[0m qc\u001b[39m.\u001b[39mmeasure(x[\u001b[39m1\u001b[39m], \u001b[39m1\u001b[39m)\n\u001b[0;32m     23\u001b[0m \u001b[39m# Execução do circuito no simulador Aer\u001b[39;00m\n",
      "File \u001b[1;32mc:\\Users\\japag\\AppData\\Local\\Programs\\Python\\Python310\\lib\\site-packages\\qiskit\\circuit\\quantumcircuit.py:2339\u001b[0m, in \u001b[0;36mQuantumCircuit.measure\u001b[1;34m(self, qubit, cbit)\u001b[0m\n\u001b[0;32m   2326\u001b[0m \u001b[39mdef\u001b[39;00m \u001b[39mmeasure\u001b[39m(\u001b[39mself\u001b[39m, qubit: QubitSpecifier, cbit: ClbitSpecifier) \u001b[39m-\u001b[39m\u001b[39m>\u001b[39m InstructionSet:\n\u001b[0;32m   2327\u001b[0m     \u001b[39m\"\"\"Measure quantum bit into classical bit (tuples).\u001b[39;00m\n\u001b[0;32m   2328\u001b[0m \n\u001b[0;32m   2329\u001b[0m \u001b[39m    Args:\u001b[39;00m\n\u001b[1;32m   (...)\u001b[0m\n\u001b[0;32m   2337\u001b[0m \u001b[39m        CircuitError: if arguments have bad format.\u001b[39;00m\n\u001b[0;32m   2338\u001b[0m \u001b[39m    \"\"\"\u001b[39;00m\n\u001b[1;32m-> 2339\u001b[0m     \u001b[39mreturn\u001b[39;00m \u001b[39mself\u001b[39;49m\u001b[39m.\u001b[39;49mappend(Measure(), [qubit], [cbit])\n",
      "File \u001b[1;32mc:\\Users\\japag\\AppData\\Local\\Programs\\Python\\Python310\\lib\\site-packages\\qiskit\\circuit\\quantumcircuit.py:1299\u001b[0m, in \u001b[0;36mQuantumCircuit.append\u001b[1;34m(self, instruction, qargs, cargs)\u001b[0m\n\u001b[0;32m   1296\u001b[0m         operation \u001b[39m=\u001b[39m copy\u001b[39m.\u001b[39mdeepcopy(operation)\n\u001b[0;32m   1298\u001b[0m expanded_qargs \u001b[39m=\u001b[39m [\u001b[39mself\u001b[39m\u001b[39m.\u001b[39mqbit_argument_conversion(qarg) \u001b[39mfor\u001b[39;00m qarg \u001b[39min\u001b[39;00m qargs \u001b[39mor\u001b[39;00m []]\n\u001b[1;32m-> 1299\u001b[0m expanded_cargs \u001b[39m=\u001b[39m [\u001b[39mself\u001b[39m\u001b[39m.\u001b[39mcbit_argument_conversion(carg) \u001b[39mfor\u001b[39;00m carg \u001b[39min\u001b[39;00m cargs \u001b[39mor\u001b[39;00m []]\n\u001b[0;32m   1301\u001b[0m \u001b[39mif\u001b[39;00m \u001b[39mself\u001b[39m\u001b[39m.\u001b[39m_control_flow_scopes:\n\u001b[0;32m   1302\u001b[0m     appender \u001b[39m=\u001b[39m \u001b[39mself\u001b[39m\u001b[39m.\u001b[39m_control_flow_scopes[\u001b[39m-\u001b[39m\u001b[39m1\u001b[39m]\u001b[39m.\u001b[39mappend\n",
      "File \u001b[1;32mc:\\Users\\japag\\AppData\\Local\\Programs\\Python\\Python310\\lib\\site-packages\\qiskit\\circuit\\quantumcircuit.py:1299\u001b[0m, in \u001b[0;36m<listcomp>\u001b[1;34m(.0)\u001b[0m\n\u001b[0;32m   1296\u001b[0m         operation \u001b[39m=\u001b[39m copy\u001b[39m.\u001b[39mdeepcopy(operation)\n\u001b[0;32m   1298\u001b[0m expanded_qargs \u001b[39m=\u001b[39m [\u001b[39mself\u001b[39m\u001b[39m.\u001b[39mqbit_argument_conversion(qarg) \u001b[39mfor\u001b[39;00m qarg \u001b[39min\u001b[39;00m qargs \u001b[39mor\u001b[39;00m []]\n\u001b[1;32m-> 1299\u001b[0m expanded_cargs \u001b[39m=\u001b[39m [\u001b[39mself\u001b[39;49m\u001b[39m.\u001b[39;49mcbit_argument_conversion(carg) \u001b[39mfor\u001b[39;00m carg \u001b[39min\u001b[39;00m cargs \u001b[39mor\u001b[39;00m []]\n\u001b[0;32m   1301\u001b[0m \u001b[39mif\u001b[39;00m \u001b[39mself\u001b[39m\u001b[39m.\u001b[39m_control_flow_scopes:\n\u001b[0;32m   1302\u001b[0m     appender \u001b[39m=\u001b[39m \u001b[39mself\u001b[39m\u001b[39m.\u001b[39m_control_flow_scopes[\u001b[39m-\u001b[39m\u001b[39m1\u001b[39m]\u001b[39m.\u001b[39mappend\n",
      "File \u001b[1;32mc:\\Users\\japag\\AppData\\Local\\Programs\\Python\\Python310\\lib\\site-packages\\qiskit\\circuit\\quantumcircuit.py:1195\u001b[0m, in \u001b[0;36mQuantumCircuit.cbit_argument_conversion\u001b[1;34m(self, clbit_representation)\u001b[0m\n\u001b[0;32m   1184\u001b[0m \u001b[39mdef\u001b[39;00m \u001b[39mcbit_argument_conversion\u001b[39m(\u001b[39mself\u001b[39m, clbit_representation: ClbitSpecifier) \u001b[39m-\u001b[39m\u001b[39m>\u001b[39m List[Clbit]:\n\u001b[0;32m   1185\u001b[0m     \u001b[39m\"\"\"\u001b[39;00m\n\u001b[0;32m   1186\u001b[0m \u001b[39m    Converts several classical bit representations (such as indexes, range, etc.)\u001b[39;00m\n\u001b[0;32m   1187\u001b[0m \u001b[39m    into a list of classical bits.\u001b[39;00m\n\u001b[1;32m   (...)\u001b[0m\n\u001b[0;32m   1193\u001b[0m \u001b[39m        List(tuple): Where each tuple is a classical bit.\u001b[39;00m\n\u001b[0;32m   1194\u001b[0m \u001b[39m    \"\"\"\u001b[39;00m\n\u001b[1;32m-> 1195\u001b[0m     \u001b[39mreturn\u001b[39;00m _bit_argument_conversion(\n\u001b[0;32m   1196\u001b[0m         clbit_representation, \u001b[39mself\u001b[39;49m\u001b[39m.\u001b[39;49mclbits, \u001b[39mself\u001b[39;49m\u001b[39m.\u001b[39;49m_clbit_indices, Clbit\n\u001b[0;32m   1197\u001b[0m     )\n",
      "File \u001b[1;32mc:\\Users\\japag\\AppData\\Local\\Programs\\Python\\Python310\\lib\\site-packages\\qiskit\\circuit\\quantumcircuit.py:5132\u001b[0m, in \u001b[0;36m_bit_argument_conversion\u001b[1;34m(specifier, bit_sequence, bit_set, type_)\u001b[0m\n\u001b[0;32m   5130\u001b[0m         \u001b[39mreturn\u001b[39;00m [bit_sequence[specifier]]\n\u001b[0;32m   5131\u001b[0m     \u001b[39mexcept\u001b[39;00m \u001b[39mIndexError\u001b[39;00m \u001b[39mas\u001b[39;00m ex:\n\u001b[1;32m-> 5132\u001b[0m         \u001b[39mraise\u001b[39;00m CircuitError(\n\u001b[0;32m   5133\u001b[0m             \u001b[39mf\u001b[39m\u001b[39m\"\u001b[39m\u001b[39mIndex \u001b[39m\u001b[39m{\u001b[39;00mspecifier\u001b[39m}\u001b[39;00m\u001b[39m out of range for size \u001b[39m\u001b[39m{\u001b[39;00m\u001b[39mlen\u001b[39m(bit_sequence)\u001b[39m}\u001b[39;00m\u001b[39m.\u001b[39m\u001b[39m\"\u001b[39m\n\u001b[0;32m   5134\u001b[0m         ) \u001b[39mfrom\u001b[39;00m \u001b[39mex\u001b[39;00m\n\u001b[0;32m   5135\u001b[0m \u001b[39m# Slices can't raise IndexError - they just return an empty list.\u001b[39;00m\n\u001b[0;32m   5136\u001b[0m \u001b[39mif\u001b[39;00m \u001b[39misinstance\u001b[39m(specifier, \u001b[39mslice\u001b[39m):\n",
      "\u001b[1;31mCircuitError\u001b[0m: 'Index 0 out of range for size 0.'"
     ]
    }
   ],
   "source": [
    "from qiskit import QuantumCircuit, QuantumRegister\n",
    "from qiskit import QuantumCircuit, execute, Aer\n",
    "\n",
    "import numpy as np\n",
    "\n",
    "# Inicialização do circuito quântico\n",
    "x = QuantumRegister(3)  # 3 qubits para representar x\n",
    "qc = QuantumCircuit(x)\n",
    "\n",
    "# Preparação do estado |x>\n",
    "qc.x(x[2])\n",
    "qc.x(x[1])\n",
    "\n",
    "# Aplicação da porta controlled-U\n",
    "qc.cu1(2 * np.pi / 7, x[0], x[2])\n",
    "qc.cu1(4 * np.pi / 7, x[1], x[2])\n",
    "\n",
    "# Aplicação da porta Toffoli\n",
    "qc.ccx(x[0], x[1], x[2])\n",
    "\n",
    "# Medição dos qubits x[2] e x[1]\n",
    "qc.measure(x[2], 0)\n",
    "qc.measure(x[1], 1)\n",
    "\n",
    "# Execução do circuito no simulador Aer\n",
    "backend = Aer.get_backend('qasm_simulator')\n",
    "result = execute(qc, backend, shots=1024).result()\n",
    "counts = result.get_counts()\n",
    "\n",
    "# Verificação dos resultados\n",
    "print(\"Resultados: \", counts)\n"
   ]
  }
 ],
 "metadata": {
  "kernelspec": {
   "display_name": "Python 3",
   "language": "python",
   "name": "python3"
  },
  "language_info": {
   "codemirror_mode": {
    "name": "ipython",
    "version": 3
   },
   "file_extension": ".py",
   "mimetype": "text/x-python",
   "name": "python",
   "nbconvert_exporter": "python",
   "pygments_lexer": "ipython3",
   "version": "3.10.4"
  },
  "orig_nbformat": 4,
  "vscode": {
   "interpreter": {
    "hash": "bcca0175964ae6ff584872733809f2657f3650f336a23be0033a7d18ab263a12"
   }
  }
 },
 "nbformat": 4,
 "nbformat_minor": 2
}
