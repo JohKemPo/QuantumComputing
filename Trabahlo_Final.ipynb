{
 "cells": [
  {
   "attachments": {},
   "cell_type": "markdown",
   "metadata": {},
   "source": [
    "### Considere as funções f1(x)=2x mod 7, f2(x)=3x mod 7 e f2(x)=6x mod 7.\n",
    "\n",
    "\n",
    "\n",
    "- Descreva um circuito reversível para implementação de cada uma delas.\n",
    "\n",
    "- Monte um circuito quântico para contar o número de ocorrências de uma determinada solução.\n",
    "\n",
    "- Implemente seu circuito no Qiskit e execute no IBM Q Experience para contar o numero de ocorrências dos valores 1, 2 e 3 em cada função.\n",
    "\n",
    "- Descreva e comente os resultados."
   ]
  },
  {
   "cell_type": "code",
   "execution_count": null,
   "metadata": {},
   "outputs": [],
   "source": []
  }
 ],
 "metadata": {
  "language_info": {
   "name": "python"
  },
  "orig_nbformat": 4
 },
 "nbformat": 4,
 "nbformat_minor": 2
}
