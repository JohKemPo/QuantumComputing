{
 "cells": [
  {
   "attachments": {},
   "cell_type": "markdown",
   "metadata": {},
   "source": [
    "O algoritmo de Grover tem uma série de aplicações na computação quântica, incluindo:\n",
    "\n",
    "Busca de informações: O algoritmo de Grover é amplamente usado para realizar buscas em bancos de dados, especialmente para grandes quantidades de dados.\n",
    "\n",
    "Cracking de criptografia clássica: O algoritmo de Grover pode ser usado para quebrar criptografias clássicas, como o código RSA, em uma fração do tempo necessário para a computação clássica.\n",
    "\n",
    "Processamento de imagens e vídeos: O algoritmo de Grover pode ser usado para aprimorar a eficiência e a velocidade na manipulação e análise de imagens e vídeos.\n",
    "\n",
    "Aprendizado de máquina: O algoritmo de Grover pode ser usado para aprimorar o desempenho em tarefas de aprendizado de máquina, como classificação de dados e reconhecimento de padrões.\n",
    "\n",
    "Análise de dados: O algoritmo de Grover pode ser usado para melhorar a eficiência na análise de grandes quantidades de dados, especialmente para tarefas que requerem buscas intensivas.\n",
    "\n",
    "Em resumo, o algoritmo de Grover é uma ferramenta valiosa para solução de problemas em vários campos, e a sua aplicação está em constante evolução com o desenvolvimento da computação quântica."
   ]
  },
  {
   "attachments": {},
   "cell_type": "markdown",
   "metadata": {},
   "source": [
    "Computação quântica é uma área de computação que usa princípios da física quântica para processar informações de forma diferente da computação clássica. Em vez de representar informações com bits binários (0s e 1s), a computação quântica usa qubits, que podem representar 0s, 1s e também estados quânticos intermediários.\n",
    "\n",
    "Isso permite que a computação quântica resolva certos problemas de forma mais rápida e eficiente do que a computação clássica. Aqui estão alguns dos principais algoritmos de computação quântica:\n",
    "\n",
    "Algoritmo de Shor: É um algoritmo quântico para calcular rapidamente a factorização de números grandes, o que é uma tarefa difícil para a computação clássica.\n",
    "\n",
    "Algoritmo de Grover: É um algoritmo quântico para realizar buscas em bancos de dados com complexidade logarítmica, enquanto a computação clássica requer tempo linear.\n",
    "\n",
    "Algoritmo de Simon: É um algoritmo quântico que permite identificar relações entre funções matemáticas com complexidade polinomial, enquanto a computação clássica requer tempo exponencial.\n",
    "\n",
    "Algoritmo de Deutsch-Jozsa: É um algoritmo quântico para testar se uma função booleana é constante ou balanceada com complexidade constante, enquanto a computação clássica requer tempo linear.\n",
    "\n",
    "Estes são apenas alguns dos principais algoritmos de computação quântica, e o campo está em constante evolução com o desenvolvimento de novas técnicas e aprimoramentos."
   ]
  },
  {
   "cell_type": "code",
   "execution_count": 1,
   "metadata": {},
   "outputs": [
    {
     "name": "stdout",
     "output_type": "stream",
     "text": [
      "Estado final:  Statevector([ 2.77555756e-17-2.10213518e-32j,\n",
      "             -1.01498095e-16-4.32978028e-17j,\n",
      "              2.77555756e-17-2.10213518e-32j,\n",
      "             -1.01498095e-16-4.32978028e-17j,\n",
      "             -5.30985705e-17-4.32978028e-17j,\n",
      "              7.07106781e-01+8.65956056e-17j,\n",
      "             -5.30985705e-17-4.32978028e-17j,\n",
      "              7.07106781e-01+8.65956056e-17j],\n",
      "            dims=(2, 2, 2))\n",
      "Probabilidade do estado alvo:  0.5000000000000003\n"
     ]
    }
   ],
   "source": [
    "#ALVO 110\n",
    "\n",
    "from qiskit import QuantumCircuit, execute, Aer\n",
    "import numpy as np\n",
    "\n",
    "# Inicialização do circuito quântico\n",
    "n_qubits = 3\n",
    "grover_circuit = QuantumCircuit(n_qubits)\n",
    "\n",
    "# Adição de portas Hadamard em todos os qubits\n",
    "for qubit in range(n_qubits):\n",
    "    grover_circuit.h(qubit)\n",
    "\n",
    "# Adição da oração de alvo\n",
    "grover_circuit.x(0)\n",
    "grover_circuit.x(2)\n",
    "grover_circuit.cz(0,2)\n",
    "grover_circuit.x(0)\n",
    "grover_circuit.x(2)\n",
    "\n",
    "# Adição da oração de inversão em torno da média\n",
    "for qubit in range(n_qubits):\n",
    "    grover_circuit.h(qubit)\n",
    "grover_circuit.z(2)\n",
    "grover_circuit.cz(0,2)\n",
    "grover_circuit.z(2)\n",
    "for qubit in range(n_qubits):\n",
    "    grover_circuit.h(qubit)\n",
    "\n",
    "# Execução do circuito no simulador Aer\n",
    "backend = Aer.get_backend('statevector_simulator')\n",
    "result = execute(grover_circuit, backend).result()\n",
    "state = result.get_statevector()\n",
    "\n",
    "# Verificação dos resultados\n",
    "print(\"Estado final: \", state)\n",
    "print(\"Probabilidade do estado alvo: \", np.abs(state[5])**2)\n"
   ]
  },
  {
   "cell_type": "code",
   "execution_count": 2,
   "metadata": {},
   "outputs": [],
   "source": [
    "#ALVO 010\n",
    "\n",
    "# from qiskit import QuantumCircuit, execute, Aer\n",
    "# import numpy as np\n",
    "\n",
    "# # Inicialização do circuito quântico\n",
    "# n_qubits = 3\n",
    "# grover_circuit = QuantumCircuit(n_qubits)\n",
    "\n",
    "# # Adição de portas Hadamard em todos os qubits\n",
    "# for qubit in range(n_qubits):\n",
    "#     grover_circuit.h(qubit)\n",
    "\n",
    "# # Adição da oração de alvo\n",
    "# grover_circuit.x(1)\n",
    "# grover_circuit.cz(0,1)\n",
    "# grover_circuit.cz(2,1)\n",
    "# grover_circuit.x(1)\n",
    "\n",
    "# # Adição da oração de inversão em torno da média\n",
    "# for qubit in range(n_qubits):\n",
    "#     grover_circuit.h(qubit)\n",
    "# grover_circuit.z(1)\n",
    "# grover_circuit.cz(0,1)\n",
    "# grover_circuit.cz(2,1)\n",
    "# grover_circuit.z(1)\n",
    "# for qubit in range(n_qubits):\n",
    "#     grover_circuit.h(qubit)\n",
    "\n",
    "# # Execução do circuito no simulador Aer\n",
    "# backend = Aer.get_backend('statevector_simulator')\n",
    "# result = execute(grover_circuit, backend).result()\n",
    "# state = result.get_statevector()\n",
    "\n",
    "# # Verificação dos resultados\n",
    "# print(\"Estado final: \", state)\n",
    "# print(\"Probabilidade do estado alvo: \", np.abs(state[2])**2)\n"
   ]
  }
 ],
 "metadata": {
  "kernelspec": {
   "display_name": "Python 3",
   "language": "python",
   "name": "python3"
  },
  "language_info": {
   "codemirror_mode": {
    "name": "ipython",
    "version": 3
   },
   "file_extension": ".py",
   "mimetype": "text/x-python",
   "name": "python",
   "nbconvert_exporter": "python",
   "pygments_lexer": "ipython3",
   "version": "3.10.4"
  },
  "orig_nbformat": 4,
  "vscode": {
   "interpreter": {
    "hash": "bcca0175964ae6ff584872733809f2657f3650f336a23be0033a7d18ab263a12"
   }
  }
 },
 "nbformat": 4,
 "nbformat_minor": 2
}
